{
  "nbformat": 4,
  "nbformat_minor": 0,
  "metadata": {
    "colab": {
      "provenance": [],
      "include_colab_link": true
    },
    "kernelspec": {
      "name": "python3",
      "display_name": "Python 3"
    },
    "language_info": {
      "name": "python"
    },
    "accelerator": "GPU",
    "gpuClass": "standard"
  },
  "cells": [
    {
      "cell_type": "markdown",
      "metadata": {
        "id": "view-in-github",
        "colab_type": "text"
      },
      "source": [
        "<a href=\"https://colab.research.google.com/github/Ersel26/echo_KVAK/blob/main/echo_KVAK_efficientNet.ipynb\" target=\"_parent\"><img src=\"https://colab.research.google.com/assets/colab-badge.svg\" alt=\"Open In Colab\"/></a>"
      ]
    },
    {
      "cell_type": "code",
      "execution_count": 65,
      "metadata": {
        "id": "W1TD-QRx6kU5"
      },
      "outputs": [],
      "source": [
        "import numpy as np\n",
        "import pandas as pd\n",
        "import matplotlib.pyplot as plt\n",
        "import tensorflow as tf\n",
        "import os\n",
        "import cv2\n",
        "import random\n",
        "from keras.preprocessing.image import ImageDataGenerator\n",
        "from keras import layers\n",
        "from keras.optimizers import Adam\n",
        "from keras.applications import EfficientNetB3"
      ]
    },
    {
      "cell_type": "code",
      "source": [
        "from google.colab import drive\n",
        "drive.mount('/content/drive')"
      ],
      "metadata": {
        "colab": {
          "base_uri": "https://localhost:8080/"
        },
        "id": "wy5K4B3W-igg",
        "outputId": "58ce61af-8c3a-4230-de60-bd97501ac65f"
      },
      "execution_count": 66,
      "outputs": [
        {
          "output_type": "stream",
          "name": "stdout",
          "text": [
            "Drive already mounted at /content/drive; to attempt to forcibly remount, call drive.mount(\"/content/drive\", force_remount=True).\n"
          ]
        }
      ]
    },
    {
      "cell_type": "code",
      "source": [
        "DIRECTORY = r\"/content/drive/MyDrive/Echo_KVAK/labeled data\"\n",
        "IMG_SIZE = 112 # for EffectiveNetB0\n",
        "BATCH_SIZE = 32\n",
        "NUM_CLASSES = len(os.listdir(DIRECTORY))"
      ],
      "metadata": {
        "id": "g5JfsH707Mrw"
      },
      "execution_count": 67,
      "outputs": []
    },
    {
      "cell_type": "code",
      "source": [
        "def create_data_ImageDataGenerator(data_gen, data_dir):\n",
        "  train_generator = data_gen.flow_from_directory(\n",
        "    data_dir,\n",
        "    target_size=(IMG_SIZE, IMG_SIZE),\n",
        "    color_mode='grayscale',\n",
        "    class_mode='categorical',\n",
        "    batch_size=BATCH_SIZE,\n",
        "    shuffle=True,\n",
        "    subset='training'\n",
        "  ) \n",
        "  validation_generator = data_gen.flow_from_directory(\n",
        "    data_dir,\n",
        "    target_size=(IMG_SIZE, IMG_SIZE),\n",
        "    color_mode='grayscale',\n",
        "    class_mode='categorical',\n",
        "    batch_size=BATCH_SIZE,\n",
        "    shuffle=True,\n",
        "    subset='validation')  # set as validation data\n",
        "  return (train_generator, validation_generator)"
      ],
      "metadata": {
        "id": "tlNR1BoRVdo1"
      },
      "execution_count": 68,
      "outputs": []
    },
    {
      "cell_type": "code",
      "source": [
        "data_gen = ImageDataGenerator(\n",
        "        rotation_range=40,\n",
        "        width_shift_range=0.2,\n",
        "        height_shift_range=0.2,\n",
        "        rescale=1./255,\n",
        "        shear_range=0.2,\n",
        "        zoom_range=0.2,\n",
        "        horizontal_flip=True,\n",
        "        fill_mode='nearest',\n",
        "        validation_split=0.2)\n",
        "\n",
        "(train_generator, validation_generator) = create_data_ImageDataGenerator(data_gen, DIRECTORY)"
      ],
      "metadata": {
        "colab": {
          "base_uri": "https://localhost:8080/"
        },
        "id": "HWiRXawPcfCQ",
        "outputId": "c24d202a-f528-4438-d4c4-b2cfecff06ab"
      },
      "execution_count": 69,
      "outputs": [
        {
          "output_type": "stream",
          "name": "stdout",
          "text": [
            "Found 9213 images belonging to 7 classes.\n",
            "Found 2302 images belonging to 7 classes.\n"
          ]
        }
      ]
    },
    {
      "cell_type": "code",
      "source": [
        "efficient_net = EfficientNetB3(\n",
        "    weights=None,\n",
        "    input_shape=(IMG_SIZE,IMG_SIZE,1),\n",
        "    include_top=False,\n",
        "    pooling='max'\n",
        ")\n",
        "\n",
        "model = tf.keras.models.Sequential()\n",
        "model.add(efficient_net)\n",
        "model.add(layers.Dense(units = 120, activation='relu'))\n",
        "model.add(layers.Dense(units = 120, activation = 'relu'))\n",
        "model.add(layers.Dense(units = NUM_CLASSES, activation='sigmoid'))\n",
        "model.summary()\n",
        "\n",
        "model.compile(optimizer=\"adam\", loss=\"categorical_crossentropy\", metrics=[\"accuracy\"] )"
      ],
      "metadata": {
        "colab": {
          "base_uri": "https://localhost:8080/"
        },
        "id": "eve2xWt1mm1n",
        "outputId": "a6403e07-9489-4cf6-d108-a15e305f6d3d"
      },
      "execution_count": 70,
      "outputs": [
        {
          "output_type": "stream",
          "name": "stdout",
          "text": [
            "Model: \"sequential_3\"\n",
            "_________________________________________________________________\n",
            " Layer (type)                Output Shape              Param #   \n",
            "=================================================================\n",
            " efficientnetb3 (Functional)  (None, 1536)             10782811  \n",
            "                                                                 \n",
            " dense_9 (Dense)             (None, 120)               184440    \n",
            "                                                                 \n",
            " dense_10 (Dense)            (None, 120)               14520     \n",
            "                                                                 \n",
            " dense_11 (Dense)            (None, 7)                 847       \n",
            "                                                                 \n",
            "=================================================================\n",
            "Total params: 10,982,618\n",
            "Trainable params: 10,895,319\n",
            "Non-trainable params: 87,299\n",
            "_________________________________________________________________\n"
          ]
        }
      ]
    },
    {
      "cell_type": "code",
      "source": [
        "callback = tf.keras.callbacks.EarlyStopping(monitor='loss', patience=3)\n",
        "\n",
        "history = model.fit(\n",
        "    train_generator,\n",
        "    epochs = 50,\n",
        "    steps_per_epoch = 15,\n",
        "    validation_data = validation_generator,\n",
        "    validation_steps = 7,\n",
        "    callbacks = [callback]\n",
        ")"
      ],
      "metadata": {
        "colab": {
          "base_uri": "https://localhost:8080/"
        },
        "id": "GxiX_VdVnQjJ",
        "outputId": "2065df98-3940-4c07-bf7e-9f3c3d7b1a2a"
      },
      "execution_count": 71,
      "outputs": [
        {
          "output_type": "stream",
          "name": "stdout",
          "text": [
            "Epoch 1/50\n",
            "15/15 [==============================] - 487s 27s/step - loss: 2.0529 - accuracy: 0.2292 - val_loss: 1.8687 - val_accuracy: 0.2902\n",
            "Epoch 2/50\n",
            "15/15 [==============================] - 391s 27s/step - loss: 1.8748 - accuracy: 0.2542 - val_loss: 1.8047 - val_accuracy: 0.3214\n",
            "Epoch 3/50\n",
            "15/15 [==============================] - 372s 25s/step - loss: 1.8089 - accuracy: 0.2729 - val_loss: 1.7583 - val_accuracy: 0.3348\n",
            "Epoch 4/50\n",
            "15/15 [==============================] - 377s 26s/step - loss: 1.8973 - accuracy: 0.2646 - val_loss: 1.7733 - val_accuracy: 0.2768\n",
            "Epoch 5/50\n",
            "15/15 [==============================] - 320s 22s/step - loss: 1.8634 - accuracy: 0.2354 - val_loss: 1.7847 - val_accuracy: 0.2991\n",
            "Epoch 6/50\n",
            "15/15 [==============================] - 279s 19s/step - loss: 1.8221 - accuracy: 0.2893 - val_loss: 1.7450 - val_accuracy: 0.2946\n"
          ]
        }
      ]
    }
  ]
}