{
  "nbformat": 4,
  "nbformat_minor": 0,
  "metadata": {
    "colab": {
      "provenance": [],
      "include_colab_link": true
    },
    "kernelspec": {
      "name": "python3",
      "display_name": "Python 3"
    },
    "language_info": {
      "name": "python"
    },
    "gpuClass": "standard"
  },
  "cells": [
    {
      "cell_type": "markdown",
      "metadata": {
        "id": "view-in-github",
        "colab_type": "text"
      },
      "source": [
        "<a href=\"https://colab.research.google.com/github/Ersel26/echo_KVAK/blob/main/echo_KVAK_efficientNet.ipynb\" target=\"_parent\"><img src=\"https://colab.research.google.com/assets/colab-badge.svg\" alt=\"Open In Colab\"/></a>"
      ]
    },
    {
      "cell_type": "code",
      "execution_count": 1,
      "metadata": {
        "id": "W1TD-QRx6kU5"
      },
      "outputs": [],
      "source": [
        "import numpy as np\n",
        "import pandas as pd\n",
        "import matplotlib.pyplot as plt\n",
        "import tensorflow as tf\n",
        "import os\n",
        "import cv2\n",
        "import random\n",
        "from keras.preprocessing.image import ImageDataGenerator\n",
        "from keras import layers\n",
        "from keras.optimizers import Adam\n",
        "from keras.applications import EfficientNetB3"
      ]
    },
    {
      "cell_type": "code",
      "source": [
        "from google.colab import drive\n",
        "drive.mount('/content/drive')"
      ],
      "metadata": {
        "colab": {
          "base_uri": "https://localhost:8080/"
        },
        "id": "wy5K4B3W-igg",
        "outputId": "3b2a6d0a-8883-4450-c386-5655d606a437"
      },
      "execution_count": 2,
      "outputs": [
        {
          "output_type": "stream",
          "name": "stdout",
          "text": [
            "Mounted at /content/drive\n"
          ]
        }
      ]
    },
    {
      "cell_type": "code",
      "source": [
        "DIRECTORY = r\"/content/drive/MyDrive/Echo_KVAK/labeled data\"\n",
        "IMG_SIZE = 112 # for EffectiveNetB0\n",
        "BATCH_SIZE = 32\n",
        "NUM_CLASSES = len(os.listdir(DIRECTORY))"
      ],
      "metadata": {
        "id": "g5JfsH707Mrw"
      },
      "execution_count": 3,
      "outputs": []
    },
    {
      "cell_type": "code",
      "source": [
        "def create_data_ImageDataGenerator(data_gen, data_dir):\n",
        "  train_generator = data_gen.flow_from_directory(\n",
        "    data_dir,\n",
        "    target_size=(IMG_SIZE, IMG_SIZE),\n",
        "    color_mode='grayscale',\n",
        "    class_mode='categorical',\n",
        "    batch_size=BATCH_SIZE,\n",
        "    shuffle=True,\n",
        "    subset='training'\n",
        "  ) \n",
        "  validation_generator = data_gen.flow_from_directory(\n",
        "    data_dir,\n",
        "    target_size=(IMG_SIZE, IMG_SIZE),\n",
        "    color_mode='grayscale',\n",
        "    class_mode='categorical',\n",
        "    batch_size=BATCH_SIZE,\n",
        "    shuffle=True,\n",
        "    subset='validation')  # set as validation data\n",
        "  return (train_generator, validation_generator)"
      ],
      "metadata": {
        "id": "tlNR1BoRVdo1"
      },
      "execution_count": 4,
      "outputs": []
    },
    {
      "cell_type": "code",
      "source": [
        "data_gen = ImageDataGenerator(\n",
        "        rotation_range=40,\n",
        "        width_shift_range=0.2,\n",
        "        height_shift_range=0.2,\n",
        "        rescale=1./255,\n",
        "        shear_range=0.2,\n",
        "        zoom_range=0.2,\n",
        "        vertical_flip=True,\n",
        "        fill_mode='nearest',\n",
        "        validation_split=0.2)\n",
        "\n",
        "(train_generator, validation_generator) = create_data_ImageDataGenerator(data_gen, DIRECTORY)"
      ],
      "metadata": {
        "colab": {
          "base_uri": "https://localhost:8080/"
        },
        "id": "HWiRXawPcfCQ",
        "outputId": "074580b7-1a85-4708-b389-ad1203a25012"
      },
      "execution_count": 5,
      "outputs": [
        {
          "output_type": "stream",
          "name": "stdout",
          "text": [
            "Found 9213 images belonging to 7 classes.\n",
            "Found 2302 images belonging to 7 classes.\n"
          ]
        }
      ]
    },
    {
      "cell_type": "code",
      "source": [
        "rows = 2\n",
        "columns = 2\n",
        "fig, axes = plt.subplots(rows,columns)\n",
        "for r in range(rows):\n",
        "    for c in range(columns):\n",
        "        image_batch = train_generator.next()[0]\n",
        "        image = image_batch[0].astype('uint8')*255\n",
        "        axes[r,c].imshow(image)\n",
        "fig.set_size_inches(15,10)"
      ],
      "metadata": {
        "id": "tv8FuNgJ5qx_",
        "outputId": "277fceed-25b9-4e15-ba5c-9ad1adf62df3",
        "colab": {
          "base_uri": "https://localhost:8080/",
          "height": 594
        }
      },
      "execution_count": 6,
      "outputs": [
        {
          "output_type": "display_data",
          "data": {
            "text/plain": [
              "<Figure size 1080x720 with 4 Axes>"
            ],
            "image/png": "[encoded data removed]"
          },
          "metadata": {
            "needs_background": "light"
          }
        }
      ]
    },
    {
      "cell_type": "code",
      "source": [
        "efficient_net = EfficientNetB3(\n",
        "    weights=None,\n",
        "    input_shape=(IMG_SIZE,IMG_SIZE,1),\n",
        "    include_top=False,\n",
        "    pooling='max'\n",
        ")\n",
        "\n",
        "model = tf.keras.models.Sequential()\n",
        "model.add(efficient_net)\n",
        "model.add(layers.Dense(units = 120, activation='relu'))\n",
        "model.add(layers.Dense(units = 120, activation = 'relu'))\n",
        "model.add(layers.Dense(units = NUM_CLASSES, activation='sigmoid'))\n",
        "model.summary()\n",
        "\n",
        "model.compile(optimizer=\"adam\", loss=\"categorical_crossentropy\", metrics=[\"accuracy\"] )"
      ],
      "metadata": {
        "colab": {
          "base_uri": "https://localhost:8080/"
        },
        "id": "eve2xWt1mm1n",
        "outputId": "e6eb2433-9cc3-46d8-9a24-fe7f78739472"
      },
      "execution_count": 7,
      "outputs": [
        {
          "output_type": "stream",
          "name": "stdout",
          "text": [
            "Model: \"sequential\"\n",
            "_________________________________________________________________\n",
            " Layer (type)                Output Shape              Param #   \n",
            "=================================================================\n",
            " efficientnetb3 (Functional)  (None, 1536)             10782811  \n",
            "                                                                 \n",
            " dense (Dense)               (None, 120)               184440    \n",
            "                                                                 \n",
            " dense_1 (Dense)             (None, 120)               14520     \n",
            "                                                                 \n",
            " dense_2 (Dense)             (None, 7)                 847       \n",
            "                                                                 \n",
            "=================================================================\n",
            "Total params: 10,982,618\n",
            "Trainable params: 10,895,319\n",
            "Non-trainable params: 87,299\n",
            "_________________________________________________________________\n"
          ]
        }
      ]
    },
    {
      "cell_type": "code",
      "source": [
        "#callback = tf.keras.callbacks.EarlyStopping(monitor='loss', patience=3)\n",
        "\n",
        "history = model.fit(\n",
        "    train_generator,\n",
        "    epochs = 50,\n",
        "    steps_per_epoch = 15,\n",
        "    validation_data = validation_generator,\n",
        "    validation_steps = 7\n",
        ")"
      ],
      "metadata": {
        "colab": {
          "base_uri": "https://localhost:8080/"
        },
        "id": "GxiX_VdVnQjJ",
        "outputId": "ed432680-61f7-400c-d6fa-69734dbb9b7b"
      },
      "execution_count": 9,
      "outputs": [
        {
          "output_type": "stream",
          "name": "stdout",
          "text": [
            "Epoch 1/50\n",
            "15/15 [==============================] - 98s 7s/step - loss: 1.7541 - accuracy: 0.2896 - val_loss: 1.7709 - val_accuracy: 0.2768\n",
            "Epoch 2/50\n",
            "15/15 [==============================] - 90s 6s/step - loss: 1.7880 - accuracy: 0.2771 - val_loss: 1.8150 - val_accuracy: 0.2545\n",
            "Epoch 3/50\n",
            "15/15 [==============================] - 76s 5s/step - loss: 1.7600 - accuracy: 0.2704 - val_loss: 1.7723 - val_accuracy: 0.2500\n",
            "Epoch 4/50\n",
            "15/15 [==============================] - 76s 5s/step - loss: 1.7735 - accuracy: 0.2896 - val_loss: 1.7473 - val_accuracy: 0.2946\n",
            "Epoch 5/50\n",
            "15/15 [==============================] - 66s 4s/step - loss: 1.7521 - accuracy: 0.3250 - val_loss: 1.7684 - val_accuracy: 0.2723\n",
            "Epoch 6/50\n",
            "15/15 [==============================] - 69s 5s/step - loss: 1.7585 - accuracy: 0.3000 - val_loss: 1.8315 - val_accuracy: 0.2366\n",
            "Epoch 7/50\n",
            "15/15 [==============================] - 57s 4s/step - loss: 1.7782 - accuracy: 0.2875 - val_loss: 1.7869 - val_accuracy: 0.2277\n",
            "Epoch 8/50\n",
            "15/15 [==============================] - 59s 4s/step - loss: 1.7632 - accuracy: 0.2771 - val_loss: 1.7604 - val_accuracy: 0.2723\n",
            "Epoch 9/50\n",
            "15/15 [==============================] - 48s 3s/step - loss: 1.7372 - accuracy: 0.3083 - val_loss: 1.8248 - val_accuracy: 0.2455\n",
            "Epoch 10/50\n",
            "15/15 [==============================] - 46s 3s/step - loss: 1.7420 - accuracy: 0.3312 - val_loss: 1.7979 - val_accuracy: 0.2277\n",
            "Epoch 11/50\n",
            "15/15 [==============================] - 47s 3s/step - loss: 1.7651 - accuracy: 0.2875 - val_loss: 1.7841 - val_accuracy: 0.2455\n",
            "Epoch 12/50\n",
            "15/15 [==============================] - 45s 3s/step - loss: 1.7704 - accuracy: 0.3208 - val_loss: 1.7798 - val_accuracy: 0.2768\n",
            "Epoch 13/50\n",
            "15/15 [==============================] - 44s 3s/step - loss: 1.7370 - accuracy: 0.3167 - val_loss: 1.8052 - val_accuracy: 0.2857\n",
            "Epoch 14/50\n",
            "15/15 [==============================] - 38s 3s/step - loss: 1.7424 - accuracy: 0.3021 - val_loss: 1.8032 - val_accuracy: 0.2366\n",
            "Epoch 15/50\n",
            "15/15 [==============================] - 37s 3s/step - loss: 1.7237 - accuracy: 0.2958 - val_loss: 1.7567 - val_accuracy: 0.2768\n",
            "Epoch 16/50\n",
            "15/15 [==============================] - 34s 2s/step - loss: 1.7624 - accuracy: 0.2812 - val_loss: 1.8050 - val_accuracy: 0.1518\n",
            "Epoch 17/50\n",
            "15/15 [==============================] - 32s 2s/step - loss: 1.7746 - accuracy: 0.3229 - val_loss: 1.7750 - val_accuracy: 0.2321\n",
            "Epoch 18/50\n",
            "15/15 [==============================] - 34s 2s/step - loss: 1.7616 - accuracy: 0.3146 - val_loss: 1.7981 - val_accuracy: 0.1205\n",
            "Epoch 19/50\n",
            "15/15 [==============================] - 27s 2s/step - loss: 1.7598 - accuracy: 0.2914 - val_loss: 1.8171 - val_accuracy: 0.1518\n",
            "Epoch 20/50\n",
            "15/15 [==============================] - 28s 2s/step - loss: 1.7134 - accuracy: 0.3208 - val_loss: 1.7486 - val_accuracy: 0.2723\n",
            "Epoch 21/50\n",
            "15/15 [==============================] - 26s 2s/step - loss: 1.7125 - accuracy: 0.3187 - val_loss: 1.8329 - val_accuracy: 0.1473\n",
            "Epoch 22/50\n",
            "15/15 [==============================] - 25s 2s/step - loss: 1.7020 - accuracy: 0.3229 - val_loss: 1.9113 - val_accuracy: 0.1161\n",
            "Epoch 23/50\n",
            "15/15 [==============================] - 28s 2s/step - loss: 1.7061 - accuracy: 0.3375 - val_loss: 1.8524 - val_accuracy: 0.1696\n",
            "Epoch 24/50\n",
            "15/15 [==============================] - 23s 2s/step - loss: 1.6914 - accuracy: 0.3812 - val_loss: 1.8372 - val_accuracy: 0.2545\n",
            "Epoch 25/50\n",
            "15/15 [==============================] - 19s 1s/step - loss: 1.6760 - accuracy: 0.4021 - val_loss: 1.7361 - val_accuracy: 0.2500\n",
            "Epoch 26/50\n",
            "15/15 [==============================] - 16s 1s/step - loss: 1.7367 - accuracy: 0.3250 - val_loss: 1.7974 - val_accuracy: 0.2411\n",
            "Epoch 27/50\n",
            "15/15 [==============================] - 19s 1s/step - loss: 1.7691 - accuracy: 0.3208 - val_loss: 1.7942 - val_accuracy: 0.2143\n",
            "Epoch 28/50\n",
            "15/15 [==============================] - 16s 927ms/step - loss: 1.6904 - accuracy: 0.3958 - val_loss: 1.9088 - val_accuracy: 0.3125\n",
            "Epoch 29/50\n",
            "15/15 [==============================] - 14s 933ms/step - loss: 1.6625 - accuracy: 0.3854 - val_loss: 1.8499 - val_accuracy: 0.3214\n",
            "Epoch 30/50\n",
            "15/15 [==============================] - 16s 1s/step - loss: 1.6119 - accuracy: 0.4125 - val_loss: 1.9854 - val_accuracy: 0.3438\n",
            "Epoch 31/50\n",
            "15/15 [==============================] - 13s 907ms/step - loss: 1.6086 - accuracy: 0.4187 - val_loss: 1.7955 - val_accuracy: 0.2188\n",
            "Epoch 32/50\n",
            "15/15 [==============================] - 12s 751ms/step - loss: 1.5867 - accuracy: 0.3833 - val_loss: 2.2698 - val_accuracy: 0.2277\n",
            "Epoch 33/50\n",
            "15/15 [==============================] - 15s 1s/step - loss: 1.5994 - accuracy: 0.4042 - val_loss: 1.7991 - val_accuracy: 0.2455\n",
            "Epoch 34/50\n",
            "15/15 [==============================] - 9s 612ms/step - loss: 1.6133 - accuracy: 0.4172 - val_loss: 1.9612 - val_accuracy: 0.2188\n",
            "Epoch 35/50\n",
            "15/15 [==============================] - 12s 823ms/step - loss: 1.5463 - accuracy: 0.4521 - val_loss: 2.2247 - val_accuracy: 0.2589\n",
            "Epoch 36/50\n",
            "15/15 [==============================] - 14s 859ms/step - loss: 1.5066 - accuracy: 0.4625 - val_loss: 3.1899 - val_accuracy: 0.2143\n",
            "Epoch 37/50\n",
            "15/15 [==============================] - 9s 597ms/step - loss: 1.5072 - accuracy: 0.4729 - val_loss: 2.5150 - val_accuracy: 0.2321\n",
            "Epoch 38/50\n",
            "15/15 [==============================] - 13s 845ms/step - loss: 1.5210 - accuracy: 0.4292 - val_loss: 2.6773 - val_accuracy: 0.2143\n",
            "Epoch 39/50\n",
            "15/15 [==============================] - 9s 573ms/step - loss: 1.4949 - accuracy: 0.4667 - val_loss: 2.6126 - val_accuracy: 0.2723\n",
            "Epoch 40/50\n",
            "15/15 [==============================] - 8s 512ms/step - loss: 1.4775 - accuracy: 0.4917 - val_loss: 1.8448 - val_accuracy: 0.3080\n",
            "Epoch 41/50\n",
            "15/15 [==============================] - 9s 596ms/step - loss: 1.5620 - accuracy: 0.4250 - val_loss: 1.7410 - val_accuracy: 0.3438\n",
            "Epoch 42/50\n",
            "15/15 [==============================] - 9s 564ms/step - loss: 1.5169 - accuracy: 0.4229 - val_loss: 1.9324 - val_accuracy: 0.3259\n",
            "Epoch 43/50\n",
            "15/15 [==============================] - 10s 672ms/step - loss: 1.4487 - accuracy: 0.4812 - val_loss: 2.7660 - val_accuracy: 0.2545\n",
            "Epoch 44/50\n",
            "15/15 [==============================] - 9s 556ms/step - loss: 1.5199 - accuracy: 0.4500 - val_loss: 1.6149 - val_accuracy: 0.4286\n",
            "Epoch 45/50\n",
            "15/15 [==============================] - 7s 482ms/step - loss: 1.5342 - accuracy: 0.4542 - val_loss: 2.1963 - val_accuracy: 0.2902\n",
            "Epoch 46/50\n",
            "15/15 [==============================] - 6s 331ms/step - loss: 1.5685 - accuracy: 0.4292 - val_loss: 1.6285 - val_accuracy: 0.4107\n",
            "Epoch 47/50\n",
            "15/15 [==============================] - 7s 477ms/step - loss: 1.5463 - accuracy: 0.4313 - val_loss: 1.7441 - val_accuracy: 0.3795\n",
            "Epoch 48/50\n",
            "15/15 [==============================] - 5s 322ms/step - loss: 1.4973 - accuracy: 0.4292 - val_loss: 3.2808 - val_accuracy: 0.2902\n",
            "Epoch 49/50\n",
            "15/15 [==============================] - 6s 368ms/step - loss: 1.5533 - accuracy: 0.4333 - val_loss: 2.3517 - val_accuracy: 0.2723\n",
            "Epoch 50/50\n",
            "15/15 [==============================] - 4s 261ms/step - loss: 1.5001 - accuracy: 0.4396 - val_loss: 3.6622 - val_accuracy: 0.2679\n"
          ]
        }
      ]
    },
    {
      "cell_type": "code",
      "source": [
        "print(history.history.keys())"
      ],
      "metadata": {
        "id": "mCjdCJFxsxhC",
        "outputId": "a0653d4e-1e12-4f41-9703-4d7690d1926f",
        "colab": {
          "base_uri": "https://localhost:8080/"
        }
      },
      "execution_count": 12,
      "outputs": [
        {
          "output_type": "stream",
          "name": "stdout",
          "text": [
            "dict_keys(['loss', 'accuracy', 'val_loss', 'val_accuracy'])\n"
          ]
        }
      ]
    },
    {
      "cell_type": "code",
      "source": [
        "loss_train = history.history['loss']\n",
        "loss_val = history.history['val_loss']\n",
        "epochs = range(0,50)\n",
        "plt.plot(epochs, loss_train, 'g', label='Training loss')\n",
        "plt.plot(epochs, loss_val, 'b', label='validation loss')\n",
        "plt.title('Training and Validation loss')\n",
        "plt.xlabel('Epochs')\n",
        "plt.ylabel('Loss')\n",
        "plt.legend()\n",
        "plt.show()"
      ],
      "metadata": {
        "id": "sujKfLsWV-4W",
        "outputId": "3170b663-96d3-4d46-c515-026726c0a37a",
        "colab": {
          "base_uri": "https://localhost:8080/",
          "height": 295
        }
      },
      "execution_count": 16,
      "outputs": [
        {
          "output_type": "display_data",
          "data": {
            "text/plain": [
              "<Figure size 432x288 with 1 Axes>"
            ],
            "image/png": "[encoded data removed]"
          },
          "metadata": {
            "needs_background": "light"
          }
        }
      ]
    },
    {
      "cell_type": "code",
      "source": [
        "loss_train = history.history['accuracy']\n",
        "loss_val = history.history['val_accuracy']\n",
        "epochs = range(0,50)\n",
        "plt.plot(epochs, loss_train, 'g', label='Training acc')\n",
        "plt.plot(epochs, loss_val, 'b', label='validation acc')\n",
        "plt.title('Training and Validation acc')\n",
        "plt.xlabel('Epochs')\n",
        "plt.ylabel('acc')\n",
        "plt.legend()\n",
        "plt.show()"
      ],
      "metadata": {
        "id": "qbBvlO5GtH-l",
        "outputId": "5a877aa5-b435-4c74-f4f5-3bd3dd4355c7",
        "colab": {
          "base_uri": "https://localhost:8080/",
          "height": 295
        }
      },
      "execution_count": 17,
      "outputs": [
        {
          "output_type": "display_data",
          "data": {
            "text/plain": [
              "<Figure size 432x288 with 1 Axes>"
            ],
            "image/png": "[encoded data removed]"
          },
          "metadata": {
            "needs_background": "light"
          }
        }
      ]
    }
  ]
}