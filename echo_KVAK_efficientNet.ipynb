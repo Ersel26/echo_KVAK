{
  "nbformat": 4,
  "nbformat_minor": 0,
  "metadata": {
    "colab": {
      "provenance": [],
      "machine_shape": "hm",
      "gpuType": "V100",
      "include_colab_link": true
    },
    "kernelspec": {
      "name": "python3",
      "display_name": "Python 3"
    },
    "language_info": {
      "name": "python"
    },
    "gpuClass": "premium",
    "accelerator": "GPU"
  },
  "cells": [
    {
      "cell_type": "markdown",
      "metadata": {
        "id": "view-in-github",
        "colab_type": "text"
      },
      "source": [
        "<a href=\"https://colab.research.google.com/github/Ersel26/echo_KVAK/blob/main/echo_KVAK_efficientNet.ipynb\" target=\"_parent\"><img src=\"https://colab.research.google.com/assets/colab-badge.svg\" alt=\"Open In Colab\"/></a>"
      ]
    },
    {
      "cell_type": "code",
      "execution_count": 1,
      "metadata": {
        "id": "W1TD-QRx6kU5"
      },
      "outputs": [],
      "source": [
        "import numpy as np\n",
        "import pandas as pd\n",
        "import matplotlib.pyplot as plt\n",
        "import tensorflow as tf\n",
        "import os\n",
        "import cv2\n",
        "import random\n",
        "import keras\n",
        "from keras.preprocessing.image import ImageDataGenerator\n",
        "from keras import layers\n",
        "from keras.optimizers import Adam\n",
        "from keras.applications import EfficientNetB3\n",
        "from keras.applications import EfficientNetB0\n",
        "from keras.models import Sequential"
      ]
    },
    {
      "cell_type": "code",
      "source": [
        "from google.colab import drive\n",
        "drive.mount('/content/drive')"
      ],
      "metadata": {
        "colab": {
          "base_uri": "https://localhost:8080/"
        },
        "id": "wy5K4B3W-igg",
        "outputId": "6c1fce9d-b070-4852-a7e0-1dbfbcefda15"
      },
      "execution_count": 2,
      "outputs": [
        {
          "output_type": "stream",
          "name": "stdout",
          "text": [
            "Mounted at /content/drive\n"
          ]
        }
      ]
    },
    {
      "cell_type": "code",
      "source": [
        "DIRECTORY = r\"/content/drive/MyDrive/Echo_KVAK/labeled data\"\n",
        "IMG_SIZE = 299 # for InceptionV3\n",
        "BATCH_SIZE = 32\n",
        "NUM_CLASSES = len(os.listdir(DIRECTORY))"
      ],
      "metadata": {
        "id": "g5JfsH707Mrw"
      },
      "execution_count": 3,
      "outputs": []
    },
    {
      "cell_type": "code",
      "source": [
        "def create_data_ImageDataGenerator(data_gen, data_dir):\n",
        "  train_generator = data_gen.flow_from_directory(\n",
        "    data_dir,\n",
        "    target_size=(IMG_SIZE, IMG_SIZE),\n",
        "    color_mode='rgb',\n",
        "    class_mode='categorical',\n",
        "    batch_size=BATCH_SIZE,\n",
        "    shuffle=True,\n",
        "    subset='training'\n",
        "  ) \n",
        "  validation_generator = data_gen.flow_from_directory(\n",
        "    data_dir,\n",
        "    target_size=(IMG_SIZE, IMG_SIZE),\n",
        "    color_mode='rgb',\n",
        "    class_mode='categorical',\n",
        "    batch_size=BATCH_SIZE,\n",
        "    shuffle=True,\n",
        "    subset='validation')  # set as validation data\n",
        "  return (train_generator, validation_generator)"
      ],
      "metadata": {
        "id": "tlNR1BoRVdo1"
      },
      "execution_count": 4,
      "outputs": []
    },
    {
      "cell_type": "code",
      "source": [
        "data_gen = ImageDataGenerator(\n",
        "        # rotation_range=40,\n",
        "        # width_shift_range=0.2,\n",
        "        # height_shift_range=0.2,\n",
        "        rotation_range=0,\n",
        "        width_shift_range=0,\n",
        "        height_shift_range=0,\n",
        "        rescale=1./255,\n",
        "        shear_range=0.2,\n",
        "        zoom_range=0.2,\n",
        "        vertical_flip=True,\n",
        "        fill_mode='nearest',\n",
        "        validation_split=0.2)\n",
        "\n",
        "(train_generator, validation_generator) = create_data_ImageDataGenerator(data_gen, DIRECTORY)"
      ],
      "metadata": {
        "colab": {
          "base_uri": "https://localhost:8080/"
        },
        "id": "HWiRXawPcfCQ",
        "outputId": "f2a1701d-f96b-42c5-a39b-25ad2ffe7c68"
      },
      "execution_count": 5,
      "outputs": [
        {
          "output_type": "stream",
          "name": "stdout",
          "text": [
            "Found 9213 images belonging to 7 classes.\n",
            "Found 2302 images belonging to 7 classes.\n"
          ]
        }
      ]
    },
    {
      "cell_type": "markdown",
      "source": [
        "#label_dist function has written to calculate distribution of data set and use the values to determine class weights. class weights are hard coded with obtained numbers below. there is no need to run again."
      ],
      "metadata": {
        "id": "wTM4GmLRTpgL"
      }
    },
    {
      "cell_type": "code",
      "source": [
        "def label_dist(generator):\n",
        "  first = 0\n",
        "  second = 0\n",
        "  third = 0\n",
        "  fourth = 0\n",
        "  fifth = 0\n",
        "  sixth = 0\n",
        "  seventh = 0\n",
        "  total = 0\n",
        "\n",
        "  for i, batch in enumerate(generator):\n",
        "      images, labels = batch\n",
        "      \n",
        "      for label in labels:\n",
        "        if (label[0] == 1.0):\n",
        "          first += 1\n",
        "        elif (label[1] == 1.0):\n",
        "          second += 1\n",
        "        elif (label[2] == 1.0):\n",
        "          third += 1\n",
        "        elif (label[3] == 1.0):\n",
        "          fourth += 1\n",
        "        elif (label[4] == 1.0):\n",
        "          fifth += 1\n",
        "        elif (label[5] == 1.0):\n",
        "          sixth += 1\n",
        "        elif (label[6] == 1.0):\n",
        "          seventh += 1\n",
        "        total += 1\n",
        "\n",
        "      if i == 10:\n",
        "        break\n",
        "\n",
        "  print(\"{0:.2f}, {1:.2f}, {2:.2f}, {3:.2f}, {4:.2f}, {5:.2f}, {6:.2f}\".format(first/total, second/total, third/total, fourth/total, fifth/total, sixth/total, seventh/total))\n",
        "\n",
        "  return (first, second, third, fourth, fifth, sixth, seventh, total)\n",
        "\n",
        "(first, second, third, fourth, fifth, sixth, seventh, total) = label_dist(train_generator)\n",
        "# label_dist(validation_generator)"
      ],
      "metadata": {
        "id": "8waQuabIod6H",
        "outputId": "3028bacb-8691-41b4-f208-24364dede86e",
        "colab": {
          "base_uri": "https://localhost:8080/"
        }
      },
      "execution_count": null,
      "outputs": [
        {
          "output_type": "stream",
          "name": "stdout",
          "text": [
            "0.15, 0.03, 0.30, 0.06, 0.08, 0.24, 0.14\n"
          ]
        }
      ]
    },
    {
      "cell_type": "code",
      "source": [
        "class_weights = {\n",
        "    0: 2816 / (7 * 424) ,\n",
        "    1: 2816 / (7 * 87),\n",
        "    2: 2816 / (7 * 833),\n",
        "    3: 2816 / (7 * 179),\n",
        "    4: 2816 / (7 * 235),\n",
        "    5: 2816 / (7 * 676),\n",
        "    6: 2816 / (7 * 382)\n",
        "}"
      ],
      "metadata": {
        "id": "Y2mc3BrmNsWw"
      },
      "execution_count": 6,
      "outputs": []
    },
    {
      "cell_type": "markdown",
      "source": [
        "# InceptionV3 w/o initial weights and w/o augmentation"
      ],
      "metadata": {
        "id": "B4VWKzEqQ3sI"
      }
    },
    {
      "cell_type": "code",
      "source": [
        "inception = tf.keras.applications.inception_v3.InceptionV3(\n",
        "    include_top=False,\n",
        "    input_shape=(IMG_SIZE,IMG_SIZE,3),\n",
        "    weights=None,\n",
        "    input_tensor=None,\n",
        "    pooling='max',\n",
        ")\n",
        "\n",
        "model = tf.keras.models.Sequential()\n",
        "model.add(inception)\n",
        "model.add(layers.Dense(units = NUM_CLASSES, activation='softmax'))\n",
        "model.summary()\n",
        "\n",
        "optimizer = keras.optimizers.Adam(\n",
        "    learning_rate=0.001,\n",
        "    beta_1=0.9,\n",
        "    beta_2=0.999,\n",
        "    epsilon=1e-07,)\n",
        "\n",
        "model.compile(optimizer=optimizer, loss=\"categorical_crossentropy\", metrics=[\"accuracy\"] )"
      ],
      "metadata": {
        "id": "fVfmb6OiRB10",
        "outputId": "9f6c8eff-17ff-4243-96f1-00d8240c0f1e",
        "colab": {
          "base_uri": "https://localhost:8080/"
        }
      },
      "execution_count": 7,
      "outputs": [
        {
          "output_type": "stream",
          "name": "stdout",
          "text": [
            "Model: \"sequential\"\n",
            "_________________________________________________________________\n",
            " Layer (type)                Output Shape              Param #   \n",
            "=================================================================\n",
            " inception_v3 (Functional)   (None, 2048)              21802784  \n",
            "                                                                 \n",
            " dense (Dense)               (None, 7)                 14343     \n",
            "                                                                 \n",
            "=================================================================\n",
            "Total params: 21,817,127\n",
            "Trainable params: 21,782,695\n",
            "Non-trainable params: 34,432\n",
            "_________________________________________________________________\n"
          ]
        }
      ]
    },
    {
      "cell_type": "code",
      "source": [
        "history = model.fit(\n",
        "    train_generator, \n",
        "    epochs = 30,\n",
        "    validation_data = validation_generator, \n",
        "    verbose = 1,\n",
        "    steps_per_epoch = 288,\n",
        "    validation_steps = 8,\n",
        "    class_weight = class_weights\n",
        "    )"
      ],
      "metadata": {
        "id": "ptkx-AVoSQ0g",
        "outputId": "6f9ff7ff-2af5-4fa4-d114-a52c252cedb8",
        "colab": {
          "base_uri": "https://localhost:8080/"
        }
      },
      "execution_count": 8,
      "outputs": [
        {
          "output_type": "stream",
          "name": "stdout",
          "text": [
            "Epoch 1/30\n",
            "288/288 [==============================] - 5727s 20s/step - loss: 2.1825 - accuracy: 0.2953 - val_loss: 2.3742 - val_accuracy: 0.0742\n",
            "Epoch 2/30\n",
            "288/288 [==============================] - 366s 1s/step - loss: 1.7943 - accuracy: 0.4092 - val_loss: 996.8377 - val_accuracy: 0.2383\n",
            "Epoch 3/30\n",
            "288/288 [==============================] - 335s 1s/step - loss: 1.7580 - accuracy: 0.4392 - val_loss: 223.8958 - val_accuracy: 0.3125\n",
            "Epoch 4/30\n",
            "288/288 [==============================] - 314s 1s/step - loss: 1.5259 - accuracy: 0.5221 - val_loss: 1.4484 - val_accuracy: 0.4766\n",
            "Epoch 5/30\n",
            "288/288 [==============================] - 324s 1s/step - loss: 1.6626 - accuracy: 0.4932 - val_loss: 22.8742 - val_accuracy: 0.2930\n",
            "Epoch 6/30\n",
            "288/288 [==============================] - 283s 984ms/step - loss: 1.4023 - accuracy: 0.5575 - val_loss: 1.3723 - val_accuracy: 0.5391\n",
            "Epoch 7/30\n",
            "288/288 [==============================] - 277s 962ms/step - loss: 1.1767 - accuracy: 0.6162 - val_loss: 0.9726 - val_accuracy: 0.6680\n",
            "Epoch 8/30\n",
            "288/288 [==============================] - 256s 888ms/step - loss: 1.2563 - accuracy: 0.6286 - val_loss: 1394.9373 - val_accuracy: 0.0312\n",
            "Epoch 9/30\n",
            "288/288 [==============================] - 252s 875ms/step - loss: 1.9408 - accuracy: 0.5037 - val_loss: 2.6486 - val_accuracy: 0.2891\n",
            "Epoch 10/30\n",
            "288/288 [==============================] - 247s 857ms/step - loss: 1.5764 - accuracy: 0.5822 - val_loss: 2.7960 - val_accuracy: 0.2852\n",
            "Epoch 11/30\n",
            "288/288 [==============================] - 238s 825ms/step - loss: 1.5955 - accuracy: 0.5486 - val_loss: 68.9004 - val_accuracy: 0.1445\n",
            "Epoch 12/30\n",
            "288/288 [==============================] - 227s 787ms/step - loss: 1.4418 - accuracy: 0.5977 - val_loss: 1.0564 - val_accuracy: 0.6523\n",
            "Epoch 13/30\n",
            "288/288 [==============================] - 222s 770ms/step - loss: 1.1779 - accuracy: 0.6361 - val_loss: 0.9514 - val_accuracy: 0.6680\n",
            "Epoch 14/30\n",
            "288/288 [==============================] - 217s 755ms/step - loss: 1.3408 - accuracy: 0.6189 - val_loss: 3.4495 - val_accuracy: 0.5938\n",
            "Epoch 15/30\n",
            "288/288 [==============================] - 211s 734ms/step - loss: 1.3120 - accuracy: 0.6552 - val_loss: 0.8770 - val_accuracy: 0.7422\n",
            "Epoch 16/30\n",
            "288/288 [==============================] - 215s 748ms/step - loss: 1.2208 - accuracy: 0.6644 - val_loss: 43.7568 - val_accuracy: 0.5195\n",
            "Epoch 17/30\n",
            "288/288 [==============================] - 213s 740ms/step - loss: 1.1232 - accuracy: 0.6819 - val_loss: 1.3589 - val_accuracy: 0.6914\n",
            "Epoch 18/30\n",
            "288/288 [==============================] - 207s 720ms/step - loss: 1.0646 - accuracy: 0.6891 - val_loss: 0.8969 - val_accuracy: 0.7227\n",
            "Epoch 19/30\n",
            "288/288 [==============================] - 206s 716ms/step - loss: 1.0662 - accuracy: 0.6951 - val_loss: 0.8535 - val_accuracy: 0.7148\n",
            "Epoch 20/30\n",
            "288/288 [==============================] - 203s 704ms/step - loss: 1.1498 - accuracy: 0.6642 - val_loss: 419.9065 - val_accuracy: 0.1797\n",
            "Epoch 21/30\n",
            "288/288 [==============================] - 197s 683ms/step - loss: 1.0532 - accuracy: 0.6942 - val_loss: 0.8546 - val_accuracy: 0.6953\n",
            "Epoch 22/30\n",
            "288/288 [==============================] - 190s 661ms/step - loss: 0.9797 - accuracy: 0.7170 - val_loss: 11.2012 - val_accuracy: 0.6484\n",
            "Epoch 23/30\n",
            "288/288 [==============================] - 195s 677ms/step - loss: 0.9631 - accuracy: 0.7227 - val_loss: 8.3368 - val_accuracy: 0.6484\n",
            "Epoch 24/30\n",
            "288/288 [==============================] - 193s 669ms/step - loss: 0.9375 - accuracy: 0.7349 - val_loss: 0.8511 - val_accuracy: 0.7461\n",
            "Epoch 25/30\n",
            "288/288 [==============================] - 198s 689ms/step - loss: 0.9569 - accuracy: 0.7318 - val_loss: 0.6531 - val_accuracy: 0.8047\n",
            "Epoch 26/30\n",
            "288/288 [==============================] - 194s 673ms/step - loss: 0.8993 - accuracy: 0.7358 - val_loss: 1.3906 - val_accuracy: 0.7422\n",
            "Epoch 27/30\n",
            "288/288 [==============================] - 193s 670ms/step - loss: 0.9076 - accuracy: 0.7362 - val_loss: 0.7964 - val_accuracy: 0.7305\n",
            "Epoch 28/30\n",
            "288/288 [==============================] - 194s 675ms/step - loss: 0.8787 - accuracy: 0.7530 - val_loss: 1.2222 - val_accuracy: 0.7109\n",
            "Epoch 29/30\n",
            "288/288 [==============================] - 204s 710ms/step - loss: 0.8323 - accuracy: 0.7467 - val_loss: 0.6560 - val_accuracy: 0.7695\n",
            "Epoch 30/30\n",
            "288/288 [==============================] - 200s 693ms/step - loss: 0.8233 - accuracy: 0.7628 - val_loss: 0.6762 - val_accuracy: 0.7695\n"
          ]
        }
      ]
    },
    {
      "cell_type": "code",
      "source": [
        "loss_train = history.history['accuracy']\n",
        "loss_val = history.history['val_accuracy']\n",
        "epochs = range(0,30)\n",
        "plt.plot(epochs, loss_train, 'g', label='Training acc')\n",
        "plt.plot(epochs, loss_val, 'b', label='validation acc')\n",
        "plt.title('Training and Validation acc')\n",
        "plt.xlabel('Epochs')\n",
        "plt.ylabel('acc')\n",
        "plt.legend()\n",
        "plt.show()"
      ],
      "metadata": {
        "id": "TYKnJTB9R3Si",
        "outputId": "27e338f0-b0aa-4b80-95b1-1b505b528454",
        "colab": {
          "base_uri": "https://localhost:8080/",
          "height": 472
        }
      },
      "execution_count": 9,
      "outputs": [
        {
          "output_type": "display_data",
          "data": {
            "text/plain": [
              "<Figure size 640x480 with 1 Axes>"
            ],
            "image/png": "[encoded data removed]"
          },
          "metadata": {}
        }
      ]
    }
  ]
}