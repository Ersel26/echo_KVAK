{
  "nbformat": 4,
  "nbformat_minor": 0,
  "metadata": {
    "colab": {
      "provenance": [],
      "machine_shape": "hm",
      "gpuType": "V100",
      "include_colab_link": true
    },
    "kernelspec": {
      "name": "python3",
      "display_name": "Python 3"
    },
    "language_info": {
      "name": "python"
    },
    "gpuClass": "premium",
    "accelerator": "GPU"
  },
  "cells": [
    {
      "cell_type": "markdown",
      "metadata": {
        "id": "view-in-github",
        "colab_type": "text"
      },
      "source": [
        "<a href=\"https://colab.research.google.com/github/Ersel26/echo_KVAK/blob/main/echo_KVAK_efficientNet.ipynb\" target=\"_parent\"><img src=\"https://colab.research.google.com/assets/colab-badge.svg\" alt=\"Open In Colab\"/></a>"
      ]
    },
    {
      "cell_type": "code",
      "execution_count": 1,
      "metadata": {
        "id": "W1TD-QRx6kU5"
      },
      "outputs": [],
      "source": [
        "import numpy as np\n",
        "import pandas as pd\n",
        "import matplotlib.pyplot as plt\n",
        "import tensorflow as tf\n",
        "import os\n",
        "import cv2\n",
        "import random\n",
        "import keras\n",
        "from keras.preprocessing.image import ImageDataGenerator\n",
        "from keras import layers\n",
        "from keras.optimizers import Adam\n",
        "from keras.applications import EfficientNetB3\n",
        "from keras.applications import EfficientNetB0\n",
        "from keras.models import Sequential"
      ]
    },
    {
      "cell_type": "code",
      "source": [
        "from google.colab import drive\n",
        "drive.mount('/content/drive')"
      ],
      "metadata": {
        "colab": {
          "base_uri": "https://localhost:8080/"
        },
        "id": "wy5K4B3W-igg",
        "outputId": "cc97a8f4-bcb4-477f-e5b6-53a5d42fb837"
      },
      "execution_count": 2,
      "outputs": [
        {
          "output_type": "stream",
          "name": "stdout",
          "text": [
            "Drive already mounted at /content/drive; to attempt to forcibly remount, call drive.mount(\"/content/drive\", force_remount=True).\n"
          ]
        }
      ]
    },
    {
      "cell_type": "code",
      "source": [
        "DIRECTORY = r\"/content/drive/MyDrive/Echo_KVAK/labeled data\"\n",
        "IMG_SIZE = 299 # for InceptionV3\n",
        "BATCH_SIZE = 128\n",
        "NUM_CLASSES = len(os.listdir(DIRECTORY))"
      ],
      "metadata": {
        "id": "g5JfsH707Mrw"
      },
      "execution_count": 10,
      "outputs": []
    },
    {
      "cell_type": "code",
      "source": [
        "def create_data_ImageDataGenerator(data_gen, data_dir):\n",
        "  train_generator = data_gen.flow_from_directory(\n",
        "    data_dir,\n",
        "    target_size=(IMG_SIZE, IMG_SIZE),\n",
        "    color_mode='rgb',\n",
        "    class_mode='categorical',\n",
        "    batch_size=BATCH_SIZE,\n",
        "    shuffle=True,\n",
        "    subset='training'\n",
        "  ) \n",
        "  validation_generator = data_gen.flow_from_directory(\n",
        "    data_dir,\n",
        "    target_size=(IMG_SIZE, IMG_SIZE),\n",
        "    color_mode='rgb',\n",
        "    class_mode='categorical',\n",
        "    batch_size=BATCH_SIZE,\n",
        "    shuffle=True,\n",
        "    subset='validation')  # set as validation data\n",
        "  return (train_generator, validation_generator)"
      ],
      "metadata": {
        "id": "tlNR1BoRVdo1"
      },
      "execution_count": 11,
      "outputs": []
    },
    {
      "cell_type": "code",
      "source": [
        "data_gen = ImageDataGenerator(\n",
        "        # rotation_range=40,\n",
        "        # width_shift_range=0.2,\n",
        "        # height_shift_range=0.2,\n",
        "        rotation_range=0,\n",
        "        width_shift_range=0,\n",
        "        height_shift_range=0,\n",
        "        rescale=1./255,\n",
        "        shear_range=0.2,\n",
        "        zoom_range=0.2,\n",
        "        vertical_flip=True,\n",
        "        fill_mode='nearest',\n",
        "        validation_split=0.2)\n",
        "\n",
        "(train_generator, validation_generator) = create_data_ImageDataGenerator(data_gen, DIRECTORY)"
      ],
      "metadata": {
        "colab": {
          "base_uri": "https://localhost:8080/"
        },
        "id": "HWiRXawPcfCQ",
        "outputId": "5455a0df-59d0-431e-c8a7-7880d7ea0759"
      },
      "execution_count": 12,
      "outputs": [
        {
          "output_type": "stream",
          "name": "stdout",
          "text": [
            "Found 9213 images belonging to 7 classes.\n",
            "Found 2302 images belonging to 7 classes.\n"
          ]
        }
      ]
    },
    {
      "cell_type": "markdown",
      "source": [
        "#label_dist function has written to calculate distribution of data set and use the values to determine class weights. class weights are hard coded with obtained numbers below. there is no need to run again."
      ],
      "metadata": {
        "id": "wTM4GmLRTpgL"
      }
    },
    {
      "cell_type": "code",
      "source": [
        "def label_dist(generator):\n",
        "  first = 0\n",
        "  second = 0\n",
        "  third = 0\n",
        "  fourth = 0\n",
        "  fifth = 0\n",
        "  sixth = 0\n",
        "  seventh = 0\n",
        "  total = 0\n",
        "\n",
        "  for i, batch in enumerate(generator):\n",
        "      images, labels = batch\n",
        "      \n",
        "      for label in labels:\n",
        "        if (label[0] == 1.0):\n",
        "          first += 1\n",
        "        elif (label[1] == 1.0):\n",
        "          second += 1\n",
        "        elif (label[2] == 1.0):\n",
        "          third += 1\n",
        "        elif (label[3] == 1.0):\n",
        "          fourth += 1\n",
        "        elif (label[4] == 1.0):\n",
        "          fifth += 1\n",
        "        elif (label[5] == 1.0):\n",
        "          sixth += 1\n",
        "        elif (label[6] == 1.0):\n",
        "          seventh += 1\n",
        "        total += 1\n",
        "\n",
        "      if i == 10:\n",
        "        break\n",
        "\n",
        "  print(\"{0:.2f}, {1:.2f}, {2:.2f}, {3:.2f}, {4:.2f}, {5:.2f}, {6:.2f}\".format(first/total, second/total, third/total, fourth/total, fifth/total, sixth/total, seventh/total))\n",
        "\n",
        "  return (first, second, third, fourth, fifth, sixth, seventh, total)\n",
        "\n",
        "(first, second, third, fourth, fifth, sixth, seventh, total) = label_dist(train_generator)\n",
        "# label_dist(validation_generator)"
      ],
      "metadata": {
        "id": "8waQuabIod6H",
        "outputId": "3028bacb-8691-41b4-f208-24364dede86e",
        "colab": {
          "base_uri": "https://localhost:8080/"
        }
      },
      "execution_count": null,
      "outputs": [
        {
          "output_type": "stream",
          "name": "stdout",
          "text": [
            "0.15, 0.03, 0.30, 0.06, 0.08, 0.24, 0.14\n"
          ]
        }
      ]
    },
    {
      "cell_type": "code",
      "source": [
        "class_weights = {\n",
        "    0: 2816 / (7 * 424) ,\n",
        "    1: 2816 / (7 * 87),\n",
        "    2: 2816 / (7 * 833),\n",
        "    3: 2816 / (7 * 179),\n",
        "    4: 2816 / (7 * 235),\n",
        "    5: 2816 / (7 * 676),\n",
        "    6: 2816 / (7 * 382)\n",
        "}"
      ],
      "metadata": {
        "id": "Y2mc3BrmNsWw"
      },
      "execution_count": 13,
      "outputs": []
    },
    {
      "cell_type": "markdown",
      "source": [
        "# InceptionV3 w/o initial weights and w/o augmentation"
      ],
      "metadata": {
        "id": "B4VWKzEqQ3sI"
      }
    },
    {
      "cell_type": "code",
      "source": [
        "inception = tf.keras.applications.inception_v3.InceptionV3(\n",
        "    include_top=False,\n",
        "    input_shape=(IMG_SIZE,IMG_SIZE,3),\n",
        "    weights=None,\n",
        "    input_tensor=None,\n",
        "    pooling='max',\n",
        ")\n",
        "\n",
        "model = tf.keras.models.Sequential()\n",
        "model.add(inception)\n",
        "model.add(layers.Dense(units = NUM_CLASSES, activation='softmax'))\n",
        "model.summary()\n",
        "\n",
        "optimizer = keras.optimizers.Adam(\n",
        "    learning_rate=0.001,\n",
        "    beta_1=0.9,\n",
        "    beta_2=0.999,\n",
        "    epsilon=1e-07,)\n",
        "\n",
        "model.compile(optimizer=optimizer, loss=\"categorical_crossentropy\", metrics=[\"accuracy\"] )"
      ],
      "metadata": {
        "id": "fVfmb6OiRB10",
        "outputId": "368f9437-a9f3-41f7-ecc7-99e90e2e4c69",
        "colab": {
          "base_uri": "https://localhost:8080/"
        }
      },
      "execution_count": 14,
      "outputs": [
        {
          "output_type": "stream",
          "name": "stdout",
          "text": [
            "Model: \"sequential_1\"\n",
            "_________________________________________________________________\n",
            " Layer (type)                Output Shape              Param #   \n",
            "=================================================================\n",
            " inception_v3 (Functional)   (None, 2048)              21802784  \n",
            "                                                                 \n",
            " dense_1 (Dense)             (None, 7)                 14343     \n",
            "                                                                 \n",
            "=================================================================\n",
            "Total params: 21,817,127\n",
            "Trainable params: 21,782,695\n",
            "Non-trainable params: 34,432\n",
            "_________________________________________________________________\n"
          ]
        }
      ]
    },
    {
      "cell_type": "code",
      "source": [
        "history = model.fit(\n",
        "    train_generator, \n",
        "    epochs = 30,\n",
        "    validation_data = validation_generator, \n",
        "    verbose = 1,\n",
        "    # steps_per_epoch = 288,\n",
        "    # validation_steps = 8,\n",
        "    class_weight = class_weights\n",
        "    )"
      ],
      "metadata": {
        "id": "ptkx-AVoSQ0g",
        "outputId": "84db9287-d093-40f4-f7cc-92542c25a361",
        "colab": {
          "base_uri": "https://localhost:8080/"
        }
      },
      "execution_count": 15,
      "outputs": [
        {
          "output_type": "stream",
          "name": "stdout",
          "text": [
            "Epoch 1/30\n",
            "72/72 [==============================] - 298s 4s/step - loss: 2.5057 - accuracy: 0.1970 - val_loss: 2.0175 - val_accuracy: 0.0656\n",
            "Epoch 2/30\n",
            "72/72 [==============================] - 239s 3s/step - loss: 1.6992 - accuracy: 0.3428 - val_loss: 2.6568 - val_accuracy: 0.0834\n",
            "Epoch 3/30\n",
            "72/72 [==============================] - 240s 3s/step - loss: 1.3714 - accuracy: 0.5211 - val_loss: 2.7119 - val_accuracy: 0.0834\n",
            "Epoch 4/30\n",
            "72/72 [==============================] - 239s 3s/step - loss: 1.1849 - accuracy: 0.5999 - val_loss: 2.9634 - val_accuracy: 0.0834\n",
            "Epoch 5/30\n",
            "72/72 [==============================] - 239s 3s/step - loss: 1.0585 - accuracy: 0.6631 - val_loss: 2.0496 - val_accuracy: 0.2976\n",
            "Epoch 6/30\n",
            "72/72 [==============================] - 240s 3s/step - loss: 1.0695 - accuracy: 0.6658 - val_loss: 1.9255 - val_accuracy: 0.4696\n",
            "Epoch 7/30\n",
            "72/72 [==============================] - 241s 3s/step - loss: 0.9410 - accuracy: 0.7074 - val_loss: 1.1409 - val_accuracy: 0.6030\n",
            "Epoch 8/30\n",
            "72/72 [==============================] - 236s 3s/step - loss: 0.8675 - accuracy: 0.7263 - val_loss: 1.3947 - val_accuracy: 0.5617\n",
            "Epoch 9/30\n",
            "72/72 [==============================] - 237s 3s/step - loss: 1.1536 - accuracy: 0.6684 - val_loss: 1.3535 - val_accuracy: 0.5626\n",
            "Epoch 10/30\n",
            "72/72 [==============================] - 237s 3s/step - loss: 0.9752 - accuracy: 0.7102 - val_loss: 5.5763 - val_accuracy: 0.5443\n",
            "Epoch 11/30\n",
            "72/72 [==============================] - 236s 3s/step - loss: 0.8421 - accuracy: 0.7433 - val_loss: 0.9994 - val_accuracy: 0.6655\n",
            "Epoch 12/30\n",
            "72/72 [==============================] - 235s 3s/step - loss: 0.8644 - accuracy: 0.7446 - val_loss: 565.0709 - val_accuracy: 0.2858\n",
            "Epoch 13/30\n",
            "72/72 [==============================] - 228s 3s/step - loss: 0.8084 - accuracy: 0.7599 - val_loss: 0.8576 - val_accuracy: 0.7228\n",
            "Epoch 14/30\n",
            "72/72 [==============================] - 223s 3s/step - loss: 0.8439 - accuracy: 0.7692 - val_loss: 1.3121 - val_accuracy: 0.5130\n",
            "Epoch 15/30\n",
            "72/72 [==============================] - 232s 3s/step - loss: 0.9057 - accuracy: 0.7415 - val_loss: 100.2764 - val_accuracy: 0.3054\n",
            "Epoch 16/30\n",
            "72/72 [==============================] - 227s 3s/step - loss: 0.8248 - accuracy: 0.7637 - val_loss: 2.0454 - val_accuracy: 0.6564\n",
            "Epoch 17/30\n",
            "72/72 [==============================] - 229s 3s/step - loss: 0.7685 - accuracy: 0.7721 - val_loss: 23.5182 - val_accuracy: 0.3336\n",
            "Epoch 18/30\n",
            "72/72 [==============================] - 221s 3s/step - loss: 0.7499 - accuracy: 0.7799 - val_loss: 1.0531 - val_accuracy: 0.6959\n",
            "Epoch 19/30\n",
            "72/72 [==============================] - 216s 3s/step - loss: 0.7000 - accuracy: 0.7900 - val_loss: 0.7636 - val_accuracy: 0.7459\n",
            "Epoch 20/30\n",
            "72/72 [==============================] - 218s 3s/step - loss: 0.6571 - accuracy: 0.8001 - val_loss: 0.8861 - val_accuracy: 0.7220\n",
            "Epoch 21/30\n",
            "72/72 [==============================] - 220s 3s/step - loss: 0.7151 - accuracy: 0.7893 - val_loss: 4.1377 - val_accuracy: 0.3141\n",
            "Epoch 22/30\n",
            "72/72 [==============================] - 221s 3s/step - loss: 0.7197 - accuracy: 0.7842 - val_loss: 0.8766 - val_accuracy: 0.7667\n",
            "Epoch 23/30\n",
            "72/72 [==============================] - 224s 3s/step - loss: 0.7891 - accuracy: 0.7695 - val_loss: 499.2294 - val_accuracy: 0.2350\n",
            "Epoch 24/30\n",
            "72/72 [==============================] - 223s 3s/step - loss: 0.7164 - accuracy: 0.7890 - val_loss: 4.7499 - val_accuracy: 0.5851\n",
            "Epoch 25/30\n",
            "72/72 [==============================] - 230s 3s/step - loss: 0.6628 - accuracy: 0.7998 - val_loss: 0.7647 - val_accuracy: 0.7281\n",
            "Epoch 26/30\n",
            "72/72 [==============================] - 227s 3s/step - loss: 0.6142 - accuracy: 0.8131 - val_loss: 0.7334 - val_accuracy: 0.7463\n",
            "Epoch 27/30\n",
            "72/72 [==============================] - 228s 3s/step - loss: 0.6411 - accuracy: 0.8086 - val_loss: 1.1631 - val_accuracy: 0.7559\n",
            "Epoch 28/30\n",
            "72/72 [==============================] - 225s 3s/step - loss: 0.5911 - accuracy: 0.8157 - val_loss: 0.5986 - val_accuracy: 0.8084\n",
            "Epoch 29/30\n",
            "72/72 [==============================] - 223s 3s/step - loss: 0.5628 - accuracy: 0.8276 - val_loss: 0.7189 - val_accuracy: 0.7685\n",
            "Epoch 30/30\n",
            "72/72 [==============================] - 224s 3s/step - loss: 0.5915 - accuracy: 0.8197 - val_loss: 0.6819 - val_accuracy: 0.7758\n"
          ]
        }
      ]
    },
    {
      "cell_type": "code",
      "source": [
        "loss_train = history.history['accuracy']\n",
        "loss_val = history.history['val_accuracy']\n",
        "epochs = range(0,30)\n",
        "plt.plot(epochs, loss_train, 'g', label='Training acc')\n",
        "plt.plot(epochs, loss_val, 'b', label='validation acc')\n",
        "plt.title('Training and Validation acc')\n",
        "plt.xlabel('Epochs')\n",
        "plt.ylabel('acc')\n",
        "plt.legend()\n",
        "plt.show()"
      ],
      "metadata": {
        "colab": {
          "base_uri": "https://localhost:8080/",
          "height": 472
        },
        "id": "TYKnJTB9R3Si",
        "outputId": "b8cb716f-b33c-444b-ece3-26bb7b631065"
      },
      "execution_count": 16,
      "outputs": [
        {
          "output_type": "display_data",
          "data": {
            "text/plain": [
              "<Figure size 640x480 with 1 Axes>"
            ],
            "image/png": "[encoded data removed]"
          },
          "metadata": {}
        }
      ]
    },
    {
      "cell_type": "markdown",
      "source": [
        "#Explanation for sudden accuracy drops:\n",
        "https://stackoverflow.com/questions/60691599/sudden-drop-in-validation-accuracy-during-training"
      ],
      "metadata": {
        "id": "7ktwnN8G24vq"
      }
    }
  ]
}